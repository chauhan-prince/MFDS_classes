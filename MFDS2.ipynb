{
  "nbformat": 4,
  "nbformat_minor": 0,
  "metadata": {
    "colab": {
      "provenance": [],
      "authorship_tag": "ABX9TyO3Z9YAaAVwbpOVsHwJHbOw",
      "include_colab_link": true
    },
    "kernelspec": {
      "name": "python3",
      "display_name": "Python 3"
    },
    "language_info": {
      "name": "python"
    }
  },
  "cells": [
    {
      "cell_type": "markdown",
      "metadata": {
        "id": "view-in-github",
        "colab_type": "text"
      },
      "source": [
        "<a href=\"https://colab.research.google.com/github/chauhan-prince/MFDS_classes/blob/main/MFDS2.ipynb\" target=\"_parent\"><img src=\"https://colab.research.google.com/assets/colab-badge.svg\" alt=\"Open In Colab\"/></a>"
      ]
    },
    {
      "cell_type": "code",
      "execution_count": null,
      "metadata": {
        "id": "KS9xDfs9CRJg",
        "colab": {
          "base_uri": "https://localhost:8080/"
        },
        "outputId": "c1513023-0aae-4ced-bc04-8af1559bb8a0"
      },
      "outputs": [
        {
          "output_type": "stream",
          "name": "stdout",
          "text": [
            "<bound method NDFrame.head of      Item_Identifier  Item_Weight Item_Fat_Content  Item_Visibility  \\\n",
            "0              FDA15        9.300          Low Fat         0.016047   \n",
            "1              DRC01        5.920          Regular         0.019278   \n",
            "2              FDN15       17.500          Low Fat         0.016760   \n",
            "3              FDX07       19.200          Regular         0.000000   \n",
            "4              NCD19        8.930          Low Fat         0.000000   \n",
            "...              ...          ...              ...              ...   \n",
            "8518           FDF22        6.865          Low Fat         0.056783   \n",
            "8519           FDS36        8.380          Regular         0.046982   \n",
            "8520           NCJ29       10.600          Low Fat         0.035186   \n",
            "8521           FDN46        7.210          Regular         0.145221   \n",
            "8522           DRG01       14.800          Low Fat         0.044878   \n",
            "\n",
            "                  Item_Type  Item_MRP Outlet_Identifier  \\\n",
            "0                     Dairy  249.8092            OUT049   \n",
            "1               Soft Drinks   48.2692            OUT018   \n",
            "2                      Meat  141.6180            OUT049   \n",
            "3     Fruits and Vegetables  182.0950            OUT010   \n",
            "4                 Household   53.8614            OUT013   \n",
            "...                     ...       ...               ...   \n",
            "8518            Snack Foods  214.5218            OUT013   \n",
            "8519           Baking Goods  108.1570            OUT045   \n",
            "8520     Health and Hygiene   85.1224            OUT035   \n",
            "8521            Snack Foods  103.1332            OUT018   \n",
            "8522            Soft Drinks   75.4670            OUT046   \n",
            "\n",
            "      Outlet_Establishment_Year Outlet_Size Outlet_Location_Type  \\\n",
            "0                          1999      Medium               Tier 1   \n",
            "1                          2009      Medium               Tier 3   \n",
            "2                          1999      Medium               Tier 1   \n",
            "3                          1998         NaN               Tier 3   \n",
            "4                          1987        High               Tier 3   \n",
            "...                         ...         ...                  ...   \n",
            "8518                       1987        High               Tier 3   \n",
            "8519                       2002         NaN               Tier 2   \n",
            "8520                       2004       Small               Tier 2   \n",
            "8521                       2009      Medium               Tier 3   \n",
            "8522                       1997       Small               Tier 1   \n",
            "\n",
            "            Outlet_Type  Item_Outlet_Sales  \n",
            "0     Supermarket Type1          3735.1380  \n",
            "1     Supermarket Type2           443.4228  \n",
            "2     Supermarket Type1          2097.2700  \n",
            "3         Grocery Store           732.3800  \n",
            "4     Supermarket Type1           994.7052  \n",
            "...                 ...                ...  \n",
            "8518  Supermarket Type1          2778.3834  \n",
            "8519  Supermarket Type1           549.2850  \n",
            "8520  Supermarket Type1          1193.1136  \n",
            "8521  Supermarket Type2          1845.5976  \n",
            "8522  Supermarket Type1           765.6700  \n",
            "\n",
            "[8523 rows x 12 columns]>\n"
          ]
        }
      ],
      "source": [
        "import pandas as pd\n",
        "url ='https://github.com/akki8087/Big-Mart-Sales/raw/refs/heads/master/Train.csv'\n",
        "df = pd.read_csv(url)\n",
        "print(df.head)"
      ]
    },
    {
      "cell_type": "code",
      "source": [
        "#measures of central tendancy\n",
        "mean_sale=df['Item_Outlet_Sales'].mean()\n",
        "print(mean_sale)"
      ],
      "metadata": {
        "colab": {
          "base_uri": "https://localhost:8080/"
        },
        "id": "tX4pVVyLqzoU",
        "outputId": "c8755803-12fa-48c2-fa21-557e11b7088f"
      },
      "execution_count": null,
      "outputs": [
        {
          "output_type": "stream",
          "name": "stdout",
          "text": [
            "2181.288913575032\n"
          ]
        }
      ]
    },
    {
      "cell_type": "code",
      "source": [
        "median_sale=df['Item_Outlet_Sales'].median()\n",
        "print(median_sale)"
      ],
      "metadata": {
        "colab": {
          "base_uri": "https://localhost:8080/"
        },
        "id": "bs-FezZHrtU6",
        "outputId": "ab0b7d8c-a81b-432f-89c3-5a4b6972f445"
      },
      "execution_count": null,
      "outputs": [
        {
          "output_type": "stream",
          "name": "stdout",
          "text": [
            "1794.331\n"
          ]
        }
      ]
    },
    {
      "cell_type": "code",
      "source": [
        "mode_sale=df['Item_Outlet_Sales'].mode()\n",
        "print(mode_sale)"
      ],
      "metadata": {
        "colab": {
          "base_uri": "https://localhost:8080/"
        },
        "id": "znsStv1hr_5X",
        "outputId": "0d93526b-3b0e-414a-bc95-360c755dbcb8"
      },
      "execution_count": null,
      "outputs": [
        {
          "output_type": "stream",
          "name": "stdout",
          "text": [
            "0    958.752\n",
            "Name: Item_Outlet_Sales, dtype: float64\n"
          ]
        }
      ]
    },
    {
      "cell_type": "code",
      "source": [
        "#measures of dispersion\n",
        "#range\n",
        "range_sale=df['Item_Outlet_Sales'].max()-df['Item_Outlet_Sales'].min()\n",
        "print(range_sale)"
      ],
      "metadata": {
        "colab": {
          "base_uri": "https://localhost:8080/"
        },
        "id": "FQWX9usisIb0",
        "outputId": "dc7e3e45-051d-42c3-cc9d-0a745ae75731"
      },
      "execution_count": null,
      "outputs": [
        {
          "output_type": "stream",
          "name": "stdout",
          "text": [
            "13053.674799999999\n"
          ]
        }
      ]
    },
    {
      "cell_type": "code",
      "source": [
        "#interquartile range\n",
        "Q1=df['Item_Outlet_Sales'].quantile(0.25)\n",
        "Q3=df['Item_Outlet_Sales'].quantile(0.75)\n",
        "QR=Q3-Q1\n",
        "print(QR)"
      ],
      "metadata": {
        "colab": {
          "base_uri": "https://localhost:8080/"
        },
        "id": "90CUb2-Yt1xj",
        "outputId": "c4c27387-14d3-4e8f-b447-5f7a4cd2d6a7"
      },
      "execution_count": null,
      "outputs": [
        {
          "output_type": "stream",
          "name": "stdout",
          "text": [
            "2267.049\n"
          ]
        }
      ]
    },
    {
      "cell_type": "code",
      "source": [
        "#measures of skewness and kurotosis\n",
        "skewness=df['Item_Outlet_Sales'].skew()\n",
        "print(skewness)\n"
      ],
      "metadata": {
        "colab": {
          "base_uri": "https://localhost:8080/"
        },
        "id": "fUNrJh3UvGW-",
        "outputId": "a8692498-4f0c-4bdf-abe9-724941263732"
      },
      "execution_count": null,
      "outputs": [
        {
          "output_type": "stream",
          "name": "stdout",
          "text": [
            "1.1775306028542796\n"
          ]
        }
      ]
    },
    {
      "cell_type": "code",
      "source": [
        "kurotosis=df['Item_Outlet_Sales'].kurt()\n",
        "print(kurotosis)"
      ],
      "metadata": {
        "colab": {
          "base_uri": "https://localhost:8080/"
        },
        "id": "sAc0eihBwUYM",
        "outputId": "3ebf6685-6c6a-4883-90ec-d41109ed9da5"
      },
      "execution_count": null,
      "outputs": [
        {
          "output_type": "stream",
          "name": "stdout",
          "text": [
            "1.6158766814287264\n"
          ]
        }
      ]
    },
    {
      "cell_type": "code",
      "source": [
        "#histogram plot\n",
        "import matplotlib.pyplot as plt\n",
        "plt.hist(df['Item_Outlet_Sales'],bins=30,color=\"red\",edgecolor=\"yellow\")\n",
        "plt.title('Distribution of items outlet sales')\n",
        "plt.xlabel('Items outlet sale')\n",
        "plt.ylabel('frequency')\n",
        "plt.show()"
      ],
      "metadata": {
        "colab": {
          "base_uri": "https://localhost:8080/",
          "height": 472
        },
        "id": "gWYg2vd2xljC",
        "outputId": "f7a05677-ec18-4461-e6c4-9361b5f28a43"
      },
      "execution_count": null,
      "outputs": [
        {
          "output_type": "display_data",
          "data": {
            "text/plain": [
              "<Figure size 640x480 with 1 Axes>"
            ],
            "image/png": "[encoded data removed]"
          },
          "metadata": {}
        }
      ]
    }
  ]
}